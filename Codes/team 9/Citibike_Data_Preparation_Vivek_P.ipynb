{
 "cells": [
  {
   "cell_type": "code",
   "execution_count": 1,
   "metadata": {},
   "outputs": [],
   "source": [
    "# import packages\n",
    "import numpy as np\n",
    "import pandas as pd\n",
    "import calendar\n",
    "from tqdm.notebook import trange, tqdm\n",
    "from math import radians, cos, sin, asin, sqrt \n",
    "\n",
    "# suppress warning\n",
    "import warnings\n",
    "warnings.simplefilter(action='ignore', category=FutureWarning)"
   ]
  },
  {
   "cell_type": "code",
   "execution_count": 2,
   "metadata": {
    "scrolled": true
   },
   "outputs": [],
   "source": [
    "dataset = pd.read_csv(\"201901-citibike-tripdata.csv\")\n",
    "# dataset.head()"
   ]
  },
  {
   "cell_type": "code",
   "execution_count": 3,
   "metadata": {},
   "outputs": [],
   "source": [
    "# Havensine Greater-circle distance function\n",
    "def distance(lat1, lon1, lat2, lon2): \n",
    "    lat1 = radians(lat1) \n",
    "    lon1 = radians(lon1) \n",
    "    lat2 = radians(lat2)\n",
    "    lon2 = radians(lon2) \n",
    "     \n",
    "    dlon = lon2 - lon1  \n",
    "    dlat = lat2 - lat1 \n",
    "    a = sin(dlat / 2)**2 + cos(lat1) * cos(lat2) * sin(dlon / 2)**2\n",
    "    c = 2 * asin(sqrt(a))  \n",
    "    r = 6371                # Earth radius r = 3956 miles/6371 km\n",
    "    return(c * r)"
   ]
  },
  {
   "cell_type": "code",
   "execution_count": 4,
   "metadata": {},
   "outputs": [
    {
     "data": {
      "application/vnd.jupyter.widget-view+json": {
       "model_id": "6c76aa65cb774a27b85859a91960e23e",
       "version_major": 2,
       "version_minor": 0
      },
      "text/plain": [
       "HBox(children=(IntProgress(value=0, description='2019 Month Loop', max=12, style=ProgressStyle(description_wid…"
      ]
     },
     "metadata": {},
     "output_type": "display_data"
    },
    {
     "name": "stdout",
     "output_type": "stream",
     "text": [
      "\n"
     ]
    },
    {
     "data": {
      "application/vnd.jupyter.widget-view+json": {
       "model_id": "78ac1d5200624d57bda7bb3843dc31af",
       "version_major": 2,
       "version_minor": 0
      },
      "text/plain": [
       "HBox(children=(IntProgress(value=0, description='2020 Month Loop', max=12, style=ProgressStyle(description_wid…"
      ]
     },
     "metadata": {},
     "output_type": "display_data"
    },
    {
     "name": "stdout",
     "output_type": "stream",
     "text": [
      "\n"
     ]
    }
   ],
   "source": [
    "# Initializing dataframes to be appended & exported\n",
    "monthly_agg_dataset = pd.DataFrame(columns= [\"year\", \"month\", \"avg_distance\", \"avg_trip_duration\"])\n",
    "final_dataset_collated  = pd.DataFrame(columns = [\"year\", \"month\", \"hour\", \"avg_concurrent_riders\", \"avg_distance\", \"avg_trip_duration\"])\n",
    "chronological_dataset = pd.DataFrame(columns = [\"year\", \"month\", \"day\", \"hour\", \"concurrent_riders\", \"avg_distance\", \"avg_trip_duration\"]) \n",
    "\n",
    "# Defining time parameters\n",
    "yl = 2019\n",
    "yu = 2020 + 1\n",
    "ml = 1\n",
    "mu = 12 + 1\n",
    "\n",
    "# Core Sub-routine: NOTE - This sub-routine doesn't account for concurrent riders/trips overlapping through a month end to the next\n",
    "for y in range(yl,yu):\n",
    "    for m in tqdm(range(ml,mu), desc=str(y)+\" Month Loop\"):\n",
    "\n",
    "        # reading csv file\n",
    "        filename = str(y)+str(m).zfill(2)+\"-citibike-tripdata.csv\"\n",
    "        dataset = pd.read_csv(filename)\n",
    "        \n",
    "        # computing distance with Havensine formula\n",
    "        dataset[\"distance\"] = dataset.apply(lambda row: distance(row[\"start station latitude\"], row[\"start station longitude\"], row[\"end station latitude\"], row[\"end station longitude\"]), axis=1)\n",
    "        \n",
    "        # converting timestamps from str to datetime format\n",
    "        # dataset[\"tripduration\"] = dataset[\"tripduration\"]\n",
    "        dataset[\"starttime2\"] = pd.to_datetime(dataset['starttime'])\n",
    "        dataset[\"stoptime2\"] = pd.to_datetime(dataset['stoptime'])\n",
    "        \n",
    "        # truncating microseconds\n",
    "        dataset[\"starttime2\"] = dataset.apply(lambda row: row[\"starttime2\"].replace(microsecond=0), axis=1)\n",
    "        dataset[\"stoptime2\"] = dataset.apply(lambda row: row[\"stoptime2\"].replace(microsecond=0), axis=1)\n",
    "        \n",
    "        # selecting required columns\n",
    "        dataset = dataset[[\"tripduration\", \"distance\", \"starttime2\", \"stoptime2\", \"start station latitude\", \"start station longitude\", \"end station latitude\", \"end station longitude\"]]\n",
    "        \n",
    "        # initializing intermediate aggregating dataframe that will be appended to the dataframes initiated at the top\n",
    "        agg_dataset = pd.DataFrame(columns = [\"year\", \"month\", \"day\", \"hour\", \"concurrent_riders\", \"distance\", \"trip_duration\", \"temp\"])\n",
    "        \n",
    "        # get the number of days in that month and execute a for loop\n",
    "        for d in range(1,calendar.monthrange(y, m)[1]+1):\n",
    "            for h in range(0,24):\n",
    "                \n",
    "                # defining lower & upper bound hour for computing concurrent riders/trips\n",
    "                lowerbound = pd.Timestamp(year=y, month=m, day=d, hour=h)\n",
    "                upperbound = lowerbound + pd.to_timedelta(1, unit='h')\n",
    "                \n",
    "                # dataset2 filters out ongoing concurrent riders/trips in the lowerbound-upperbound duration defined above\n",
    "                dataset2 = dataset[(dataset.starttime2 < upperbound) & ((dataset.stoptime2 > lowerbound) & (dataset.stoptime2 > dataset.starttime2))]\n",
    "                # dataset3 filters out trips that began in the lowerbound-upperbound duration defined above\n",
    "                dataset3 = dataset[(dataset.starttime2 >= lowerbound) & (dataset.starttime2 < upperbound)]\n",
    "                \n",
    "                concurrent_riders = dataset2.shape[0]\n",
    "                # temp keeps a counter of trips used for computing avg below after aggregation through [year,month,hour]\n",
    "                temp = dataset3.shape[0]\n",
    "                \n",
    "                # computing total trip duration and converting it to minutes\n",
    "                total_trip_duration = dataset3[\"tripduration\"].sum()/60\n",
    "                # computing total distance\n",
    "                total_distance = dataset3[\"distance\"].sum()\n",
    "                \n",
    "                # appending above computed variables into the aggregation dataset\n",
    "                agg_dataset = agg_dataset.append({\"year\": y, \"month\": m, \"day\": d, \"hour\": h, \"concurrent_riders\": concurrent_riders, \"distance\":total_distance, \"trip_duration\":total_trip_duration, \"temp\":temp}, ignore_index = True)\n",
    "        \n",
    "        # computing below parameters for a month-by-month basis\n",
    "        monthly_avg_distance = dataset[\"distance\"].sum()/dataset.shape[0]\n",
    "        monthly_avg_trip_duration = dataset[\"tripduration\"].sum()/dataset.shape[0]\n",
    "        # converting to minutes\n",
    "        monthly_avg_trip_duration /= 60\n",
    "        # appending above computed variables to the monthly aggregation dataset\n",
    "        monthly_agg_dataset = monthly_agg_dataset.append({\"year\": y, \"month\": m, \"avg_distance\": monthly_avg_distance, \"avg_trip_duration\": monthly_avg_trip_duration}, ignore_index = True)\n",
    "        \n",
    "        # converting aggregation dataset variables to appropriate datatypes\n",
    "        agg_dataset = agg_dataset.astype({\"year\":int, \"month\":int, \"day\":int, \"hour\":int, \"concurrent_riders\":int, \"temp\":int})\n",
    "        \n",
    "        # copying aggregation dataset which is then grouped by [year, month, hour]\n",
    "        final_dataset= agg_dataset[[\"year\", \"month\", \"hour\", \"concurrent_riders\", \"distance\", \"trip_duration\", \"temp\"]]\n",
    "        final_dataset = final_dataset.groupby([\"year\",\"month\",\"hour\"], as_index = False).sum()\n",
    "        # calculating averages\n",
    "        final_dataset[\"concurrent_riders\"] = final_dataset[\"concurrent_riders\"]/calendar.monthrange(y, m)[1]\n",
    "        final_dataset[\"distance\"] = final_dataset[\"distance\"]/final_dataset[\"temp\"]\n",
    "        final_dataset[\"trip_duration\"] = final_dataset[\"trip_duration\"]/final_dataset[\"temp\"]\n",
    "        # dropping temp column as it is no longer required\n",
    "        final_dataset.drop([\"temp\"], axis = 1, inplace = True)\n",
    "        # renaming columns after computing averages\n",
    "        final_dataset.rename(columns = {\"concurrent_riders\": \"avg_concurrent_riders\", \"distance\": \"avg_distance\", \"trip_duration\": \"avg_trip_duration\"}, inplace = True) \n",
    "        \n",
    "        # original aggregation dataset without any grouping to retain chronological granularity\n",
    "        # calculating averages\n",
    "        agg_dataset[\"distance\"] = agg_dataset[\"distance\"]/temp\n",
    "        agg_dataset[\"trip_duration\"] = agg_dataset[\"trip_duration\"]/temp\n",
    "        # dropping temp column as it is no longer required\n",
    "        agg_dataset.drop([\"temp\"], axis = 1, inplace = True)\n",
    "        # renaming columns after computing averages\n",
    "        agg_dataset.rename(columns = {\"distance\": \"avg_distance\", \"trip_duration\": \"avg_trip_duration\"}, inplace = True)\n",
    "        \n",
    "        # appending to the intermediate dataframes to the final dataframes to be exported as csv\n",
    "        chronological_dataset = chronological_dataset.append(agg_dataset, ignore_index = True)\n",
    "        final_dataset_collated = final_dataset_collated.append(final_dataset, ignore_index = True)"
   ]
  },
  {
   "cell_type": "code",
   "execution_count": 5,
   "metadata": {},
   "outputs": [],
   "source": [
    "# Exporting dataframes as csv\n",
    "monthly_agg_dataset.to_csv(\"monthly_agg_dataset.csv\", index = False)\n",
    "chronological_dataset.to_csv(\"chronological_dataset.csv\", index = False)\n",
    "final_dataset_collated.to_csv(\"final_dataset_collated.csv\", index = False)"
   ]
  }
 ],
 "metadata": {
  "kernelspec": {
   "display_name": "Python 3",
   "language": "python",
   "name": "python3"
  },
  "language_info": {
   "codemirror_mode": {
    "name": "ipython",
    "version": 3
   },
   "file_extension": ".py",
   "mimetype": "text/x-python",
   "name": "python",
   "nbconvert_exporter": "python",
   "pygments_lexer": "ipython3",
   "version": "3.7.4"
  }
 },
 "nbformat": 4,
 "nbformat_minor": 4
}
