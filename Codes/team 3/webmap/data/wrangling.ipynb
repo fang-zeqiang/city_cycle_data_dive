{
 "cells": [
  {
   "cell_type": "code",
   "execution_count": 1,
   "metadata": {},
   "outputs": [],
   "source": [
    "import pandas as pd\n",
    "import geopandas as gpd\n",
    "import numpy as np\n",
    "import matplotlib.pyplot as plt"
   ]
  },
  {
   "cell_type": "code",
   "execution_count": 2,
   "metadata": {},
   "outputs": [],
   "source": [
    "boroughs = gpd.read_file('boroughs.geojson')"
   ]
  },
  {
   "cell_type": "code",
   "execution_count": 4,
   "metadata": {},
   "outputs": [],
   "source": [
    "counts = pd.read_csv('total_cycle_by_borough.csv')"
   ]
  },
  {
   "cell_type": "code",
   "execution_count": 5,
   "metadata": {},
   "outputs": [
    {
     "data": {
      "text/html": [
       "<div>\n",
       "<style scoped>\n",
       "    .dataframe tbody tr th:only-of-type {\n",
       "        vertical-align: middle;\n",
       "    }\n",
       "\n",
       "    .dataframe tbody tr th {\n",
       "        vertical-align: top;\n",
       "    }\n",
       "\n",
       "    .dataframe thead th {\n",
       "        text-align: right;\n",
       "    }\n",
       "</style>\n",
       "<table border=\"1\" class=\"dataframe\">\n",
       "  <thead>\n",
       "    <tr style=\"text-align: right;\">\n",
       "      <th></th>\n",
       "      <th>Unnamed: 0</th>\n",
       "      <th>Borough</th>\n",
       "      <th>Year</th>\n",
       "      <th>Quarter</th>\n",
       "      <th>Period</th>\n",
       "      <th>Weather</th>\n",
       "      <th>Normal_cycles</th>\n",
       "      <th>Hire_cycles</th>\n",
       "      <th>Total_cycles</th>\n",
       "      <th>Infras</th>\n",
       "    </tr>\n",
       "  </thead>\n",
       "  <tbody>\n",
       "    <tr>\n",
       "      <th>0</th>\n",
       "      <td>0</td>\n",
       "      <td>Camden</td>\n",
       "      <td>2017</td>\n",
       "      <td>Q1</td>\n",
       "      <td>AM peak (07:00-10:00)</td>\n",
       "      <td>Dry</td>\n",
       "      <td>20.117479</td>\n",
       "      <td>2.707736</td>\n",
       "      <td>22.825215</td>\n",
       "      <td>2344.0</td>\n",
       "    </tr>\n",
       "    <tr>\n",
       "      <th>1</th>\n",
       "      <td>1</td>\n",
       "      <td>Camden</td>\n",
       "      <td>2017</td>\n",
       "      <td>Q1</td>\n",
       "      <td>AM peak (07:00-10:00)</td>\n",
       "      <td>Wet</td>\n",
       "      <td>31.796610</td>\n",
       "      <td>4.567797</td>\n",
       "      <td>36.364407</td>\n",
       "      <td>2344.0</td>\n",
       "    </tr>\n",
       "    <tr>\n",
       "      <th>2</th>\n",
       "      <td>2</td>\n",
       "      <td>Camden</td>\n",
       "      <td>2017</td>\n",
       "      <td>Q1</td>\n",
       "      <td>Early Morning (06:00-07:00)</td>\n",
       "      <td>Dry</td>\n",
       "      <td>3.275424</td>\n",
       "      <td>0.415254</td>\n",
       "      <td>3.690678</td>\n",
       "      <td>2344.0</td>\n",
       "    </tr>\n",
       "    <tr>\n",
       "      <th>3</th>\n",
       "      <td>3</td>\n",
       "      <td>Camden</td>\n",
       "      <td>2017</td>\n",
       "      <td>Q1</td>\n",
       "      <td>Early Morning (06:00-07:00)</td>\n",
       "      <td>Wet</td>\n",
       "      <td>4.416667</td>\n",
       "      <td>0.250000</td>\n",
       "      <td>4.666667</td>\n",
       "      <td>2344.0</td>\n",
       "    </tr>\n",
       "    <tr>\n",
       "      <th>4</th>\n",
       "      <td>4</td>\n",
       "      <td>Camden</td>\n",
       "      <td>2017</td>\n",
       "      <td>Q1</td>\n",
       "      <td>Evening (19:00-22:00)</td>\n",
       "      <td>Dry</td>\n",
       "      <td>10.527697</td>\n",
       "      <td>0.932945</td>\n",
       "      <td>11.460641</td>\n",
       "      <td>2344.0</td>\n",
       "    </tr>\n",
       "  </tbody>\n",
       "</table>\n",
       "</div>"
      ],
      "text/plain": [
       "   Unnamed: 0 Borough  Year Quarter                       Period Weather  \\\n",
       "0           0  Camden  2017      Q1        AM peak (07:00-10:00)     Dry   \n",
       "1           1  Camden  2017      Q1        AM peak (07:00-10:00)     Wet   \n",
       "2           2  Camden  2017      Q1  Early Morning (06:00-07:00)     Dry   \n",
       "3           3  Camden  2017      Q1  Early Morning (06:00-07:00)     Wet   \n",
       "4           4  Camden  2017      Q1        Evening (19:00-22:00)     Dry   \n",
       "\n",
       "   Normal_cycles  Hire_cycles  Total_cycles  Infras  \n",
       "0      20.117479     2.707736     22.825215  2344.0  \n",
       "1      31.796610     4.567797     36.364407  2344.0  \n",
       "2       3.275424     0.415254      3.690678  2344.0  \n",
       "3       4.416667     0.250000      4.666667  2344.0  \n",
       "4      10.527697     0.932945     11.460641  2344.0  "
      ]
     },
     "execution_count": 5,
     "metadata": {},
     "output_type": "execute_result"
    }
   ],
   "source": [
    "counts.head()"
   ]
  },
  {
   "cell_type": "code",
   "execution_count": 6,
   "metadata": {},
   "outputs": [],
   "source": [
    "counts.drop(columns='Unnamed: 0', inplace=True)"
   ]
  },
  {
   "cell_type": "code",
   "execution_count": 7,
   "metadata": {},
   "outputs": [],
   "source": [
    "counts.drop(counts[\n",
    "    (counts['Quarter'] != 'Q3') |\n",
    "    (counts['Period'] == 'Early Morning (06:00-07:00)') |\n",
    "    (counts['Period'] == 'Evening (19:00-22:00)') |\n",
    "    (counts['Period'] == 'Inter-peak (10:00-16:00)')\n",
    "].index, inplace=True)"
   ]
  },
  {
   "cell_type": "code",
   "execution_count": 8,
   "metadata": {},
   "outputs": [
    {
     "data": {
      "text/html": [
       "<div>\n",
       "<style scoped>\n",
       "    .dataframe tbody tr th:only-of-type {\n",
       "        vertical-align: middle;\n",
       "    }\n",
       "\n",
       "    .dataframe tbody tr th {\n",
       "        vertical-align: top;\n",
       "    }\n",
       "\n",
       "    .dataframe thead th {\n",
       "        text-align: right;\n",
       "    }\n",
       "</style>\n",
       "<table border=\"1\" class=\"dataframe\">\n",
       "  <thead>\n",
       "    <tr style=\"text-align: right;\">\n",
       "      <th></th>\n",
       "      <th>Borough</th>\n",
       "      <th>Year</th>\n",
       "      <th>Quarter</th>\n",
       "      <th>Period</th>\n",
       "      <th>Weather</th>\n",
       "      <th>Normal_cycles</th>\n",
       "      <th>Hire_cycles</th>\n",
       "      <th>Total_cycles</th>\n",
       "      <th>Infras</th>\n",
       "    </tr>\n",
       "  </thead>\n",
       "  <tbody>\n",
       "    <tr>\n",
       "      <th>24</th>\n",
       "      <td>Camden</td>\n",
       "      <td>2017</td>\n",
       "      <td>Q3</td>\n",
       "      <td>AM peak (07:00-10:00)</td>\n",
       "      <td>Dry</td>\n",
       "      <td>26.020349</td>\n",
       "      <td>3.414244</td>\n",
       "      <td>29.434593</td>\n",
       "      <td>2344.0</td>\n",
       "    </tr>\n",
       "    <tr>\n",
       "      <th>25</th>\n",
       "      <td>Camden</td>\n",
       "      <td>2017</td>\n",
       "      <td>Q3</td>\n",
       "      <td>AM peak (07:00-10:00)</td>\n",
       "      <td>Wet</td>\n",
       "      <td>16.657895</td>\n",
       "      <td>1.809211</td>\n",
       "      <td>18.467105</td>\n",
       "      <td>2344.0</td>\n",
       "    </tr>\n",
       "    <tr>\n",
       "      <th>34</th>\n",
       "      <td>Camden</td>\n",
       "      <td>2017</td>\n",
       "      <td>Q3</td>\n",
       "      <td>PM peak (16:00-19:00)</td>\n",
       "      <td>Dry</td>\n",
       "      <td>25.805634</td>\n",
       "      <td>3.507042</td>\n",
       "      <td>29.312676</td>\n",
       "      <td>2344.0</td>\n",
       "    </tr>\n",
       "    <tr>\n",
       "      <th>35</th>\n",
       "      <td>Camden</td>\n",
       "      <td>2017</td>\n",
       "      <td>Q3</td>\n",
       "      <td>PM peak (16:00-19:00)</td>\n",
       "      <td>Wet</td>\n",
       "      <td>18.600000</td>\n",
       "      <td>1.615385</td>\n",
       "      <td>20.215385</td>\n",
       "      <td>2344.0</td>\n",
       "    </tr>\n",
       "    <tr>\n",
       "      <th>84</th>\n",
       "      <td>Camden</td>\n",
       "      <td>2018</td>\n",
       "      <td>Q3</td>\n",
       "      <td>AM peak (07:00-10:00)</td>\n",
       "      <td>Dry</td>\n",
       "      <td>26.622108</td>\n",
       "      <td>3.349614</td>\n",
       "      <td>29.971722</td>\n",
       "      <td>59.0</td>\n",
       "    </tr>\n",
       "  </tbody>\n",
       "</table>\n",
       "</div>"
      ],
      "text/plain": [
       "   Borough  Year Quarter                 Period Weather  Normal_cycles  \\\n",
       "24  Camden  2017      Q3  AM peak (07:00-10:00)     Dry      26.020349   \n",
       "25  Camden  2017      Q3  AM peak (07:00-10:00)     Wet      16.657895   \n",
       "34  Camden  2017      Q3  PM peak (16:00-19:00)     Dry      25.805634   \n",
       "35  Camden  2017      Q3  PM peak (16:00-19:00)     Wet      18.600000   \n",
       "84  Camden  2018      Q3  AM peak (07:00-10:00)     Dry      26.622108   \n",
       "\n",
       "    Hire_cycles  Total_cycles  Infras  \n",
       "24     3.414244     29.434593  2344.0  \n",
       "25     1.809211     18.467105  2344.0  \n",
       "34     3.507042     29.312676  2344.0  \n",
       "35     1.615385     20.215385  2344.0  \n",
       "84     3.349614     29.971722    59.0  "
      ]
     },
     "execution_count": 8,
     "metadata": {},
     "output_type": "execute_result"
    }
   ],
   "source": [
    "counts.head()"
   ]
  },
  {
   "cell_type": "code",
   "execution_count": 9,
   "metadata": {},
   "outputs": [],
   "source": [
    "def get_year(year:int):\n",
    "    year_df = counts[counts['Year'] == year].copy()\n",
    "    return year_df"
   ]
  },
  {
   "cell_type": "code",
   "execution_count": 29,
   "metadata": {},
   "outputs": [],
   "source": [
    "df2017 = get_year(2017)\n",
    "df2018 = get_year(2018)\n",
    "df2019 = get_year(2019)\n",
    "df2020 = get_year(2020)"
   ]
  },
  {
   "cell_type": "code",
   "execution_count": 23,
   "metadata": {},
   "outputs": [],
   "source": [
    "def pivot_periods(df):\n",
    "    df_grouped = df.groupby(['Borough', 'Period'], as_index=False).agg({'Total_cycles': 'sum'})\n",
    "    pivot_df = df_grouped.pivot(values = 'Total_cycles',\n",
    "            index = 'Borough',\n",
    "            columns = 'Period')\n",
    "    return pivot_df"
   ]
  },
  {
   "cell_type": "code",
   "execution_count": 30,
   "metadata": {},
   "outputs": [],
   "source": [
    "pivot17 = pivot_periods(df2017)\n",
    "pivot18 = pivot_periods(df2018)\n",
    "pivot19 = pivot_periods(df2019)\n",
    "pivot20 = pivot_periods(df2020)"
   ]
  },
  {
   "cell_type": "code",
   "execution_count": 58,
   "metadata": {},
   "outputs": [],
   "source": [
    "geo17 = pd.merge(pivot17, boroughs, how='left', left_on='Borough', right_on='NAME')\n",
    "geo18 = pd.merge(pivot18, boroughs, how='left', left_on='Borough', right_on='NAME')\n",
    "geo19 = pd.merge(pivot19, boroughs, how='left', left_on='Borough', right_on='NAME')\n",
    "geo20 = pd.merge(pivot20, boroughs, how='left', left_on='Borough', right_on='NAME')"
   ]
  },
  {
   "cell_type": "code",
   "execution_count": 59,
   "metadata": {},
   "outputs": [],
   "source": [
    "geo17 = gpd.GeoDataFrame(geo17, geometry='geometry', crs='epsg:4326')\n",
    "geo18 = gpd.GeoDataFrame(geo18, geometry='geometry', crs='epsg:4326')\n",
    "geo19 = gpd.GeoDataFrame(geo19, geometry='geometry', crs='epsg:4326')\n",
    "geo20 = gpd.GeoDataFrame(geo20, geometry='geometry', crs='epsg:4326')"
   ]
  },
  {
   "cell_type": "code",
   "execution_count": 60,
   "metadata": {},
   "outputs": [],
   "source": [
    "geo17.to_file('geo17.geojson', driver='GeoJSON')\n",
    "geo18.to_file('geo18.geojson', driver='GeoJSON')\n",
    "geo19.to_file('geo19.geojson', driver='GeoJSON')\n",
    "geo20.to_file('geo20.geojson', driver='GeoJSON')"
   ]
  },
  {
   "cell_type": "code",
   "execution_count": 67,
   "metadata": {},
   "outputs": [],
   "source": [
    "predicted = pd.read_csv('total_cycles_prediction_2021.csv')"
   ]
  },
  {
   "cell_type": "code",
   "execution_count": 68,
   "metadata": {},
   "outputs": [
    {
     "data": {
      "text/html": [
       "<div>\n",
       "<style scoped>\n",
       "    .dataframe tbody tr th:only-of-type {\n",
       "        vertical-align: middle;\n",
       "    }\n",
       "\n",
       "    .dataframe tbody tr th {\n",
       "        vertical-align: top;\n",
       "    }\n",
       "\n",
       "    .dataframe thead th {\n",
       "        text-align: right;\n",
       "    }\n",
       "</style>\n",
       "<table border=\"1\" class=\"dataframe\">\n",
       "  <thead>\n",
       "    <tr style=\"text-align: right;\">\n",
       "      <th></th>\n",
       "      <th>Unnamed: 0</th>\n",
       "      <th>Unnamed: 0.1</th>\n",
       "      <th>Borough</th>\n",
       "      <th>Year</th>\n",
       "      <th>Period</th>\n",
       "      <th>Normal_cycles</th>\n",
       "      <th>Hire_cycles</th>\n",
       "      <th>Total_cycles</th>\n",
       "      <th>Infras</th>\n",
       "      <th>Totle_cycles_predicted</th>\n",
       "    </tr>\n",
       "  </thead>\n",
       "  <tbody>\n",
       "    <tr>\n",
       "      <th>0</th>\n",
       "      <td>0</td>\n",
       "      <td>10</td>\n",
       "      <td>Camden</td>\n",
       "      <td>2021</td>\n",
       "      <td>AM peak (07:00-10:00)</td>\n",
       "      <td>0</td>\n",
       "      <td>0</td>\n",
       "      <td>0</td>\n",
       "      <td>2344</td>\n",
       "      <td>33226.159283</td>\n",
       "    </tr>\n",
       "    <tr>\n",
       "      <th>1</th>\n",
       "      <td>1</td>\n",
       "      <td>11</td>\n",
       "      <td>Camden</td>\n",
       "      <td>2021</td>\n",
       "      <td>Early Morning (06:00-07:00)</td>\n",
       "      <td>0</td>\n",
       "      <td>0</td>\n",
       "      <td>0</td>\n",
       "      <td>2344</td>\n",
       "      <td>2491.799911</td>\n",
       "    </tr>\n",
       "    <tr>\n",
       "      <th>2</th>\n",
       "      <td>2</td>\n",
       "      <td>12</td>\n",
       "      <td>Camden</td>\n",
       "      <td>2021</td>\n",
       "      <td>Evening (19:00-22:00)</td>\n",
       "      <td>0</td>\n",
       "      <td>0</td>\n",
       "      <td>0</td>\n",
       "      <td>2344</td>\n",
       "      <td>13003.368950</td>\n",
       "    </tr>\n",
       "    <tr>\n",
       "      <th>3</th>\n",
       "      <td>3</td>\n",
       "      <td>13</td>\n",
       "      <td>Camden</td>\n",
       "      <td>2021</td>\n",
       "      <td>Inter-peak (10:00-16:00)</td>\n",
       "      <td>0</td>\n",
       "      <td>0</td>\n",
       "      <td>0</td>\n",
       "      <td>2344</td>\n",
       "      <td>16265.378021</td>\n",
       "    </tr>\n",
       "    <tr>\n",
       "      <th>4</th>\n",
       "      <td>4</td>\n",
       "      <td>14</td>\n",
       "      <td>Camden</td>\n",
       "      <td>2021</td>\n",
       "      <td>PM peak (16:00-19:00)</td>\n",
       "      <td>0</td>\n",
       "      <td>0</td>\n",
       "      <td>0</td>\n",
       "      <td>2344</td>\n",
       "      <td>31864.194582</td>\n",
       "    </tr>\n",
       "  </tbody>\n",
       "</table>\n",
       "</div>"
      ],
      "text/plain": [
       "   Unnamed: 0  Unnamed: 0.1 Borough  Year                       Period  \\\n",
       "0           0            10  Camden  2021        AM peak (07:00-10:00)   \n",
       "1           1            11  Camden  2021  Early Morning (06:00-07:00)   \n",
       "2           2            12  Camden  2021        Evening (19:00-22:00)   \n",
       "3           3            13  Camden  2021     Inter-peak (10:00-16:00)   \n",
       "4           4            14  Camden  2021        PM peak (16:00-19:00)   \n",
       "\n",
       "   Normal_cycles  Hire_cycles  Total_cycles  Infras  Totle_cycles_predicted  \n",
       "0              0            0             0    2344            33226.159283  \n",
       "1              0            0             0    2344             2491.799911  \n",
       "2              0            0             0    2344            13003.368950  \n",
       "3              0            0             0    2344            16265.378021  \n",
       "4              0            0             0    2344            31864.194582  "
      ]
     },
     "execution_count": 68,
     "metadata": {},
     "output_type": "execute_result"
    }
   ],
   "source": [
    "predicted.head()"
   ]
  },
  {
   "cell_type": "code",
   "execution_count": 69,
   "metadata": {},
   "outputs": [],
   "source": [
    "predicted.drop(columns=['Unnamed: 0', 'Unnamed: 0.1'], inplace=True)"
   ]
  },
  {
   "cell_type": "code",
   "execution_count": 70,
   "metadata": {},
   "outputs": [],
   "source": [
    "predicted.drop(predicted[\n",
    "    (predicted['Period'] == 'Early Morning (06:00-07:00)') |\n",
    "    (predicted['Period'] == 'Evening (19:00-22:00)') |\n",
    "    (predicted['Period'] == 'Inter-peak (10:00-16:00)')\n",
    "].index, inplace=True)"
   ]
  },
  {
   "cell_type": "code",
   "execution_count": 72,
   "metadata": {},
   "outputs": [],
   "source": [
    "df21_grouped = predicted.groupby(['Borough', 'Period'], as_index=False).agg({'Totle_cycles_predicted': 'sum'})"
   ]
  },
  {
   "cell_type": "code",
   "execution_count": 75,
   "metadata": {},
   "outputs": [],
   "source": [
    "pivot21 = df21_grouped.pivot(values = 'Totle_cycles_predicted', index = 'Borough', columns = 'Period')"
   ]
  },
  {
   "cell_type": "code",
   "execution_count": 76,
   "metadata": {},
   "outputs": [
    {
     "data": {
      "text/html": [
       "<div>\n",
       "<style scoped>\n",
       "    .dataframe tbody tr th:only-of-type {\n",
       "        vertical-align: middle;\n",
       "    }\n",
       "\n",
       "    .dataframe tbody tr th {\n",
       "        vertical-align: top;\n",
       "    }\n",
       "\n",
       "    .dataframe thead th {\n",
       "        text-align: right;\n",
       "    }\n",
       "</style>\n",
       "<table border=\"1\" class=\"dataframe\">\n",
       "  <thead>\n",
       "    <tr style=\"text-align: right;\">\n",
       "      <th>Period</th>\n",
       "      <th>AM peak (07:00-10:00)</th>\n",
       "      <th>PM peak (16:00-19:00)</th>\n",
       "    </tr>\n",
       "    <tr>\n",
       "      <th>Borough</th>\n",
       "      <th></th>\n",
       "      <th></th>\n",
       "    </tr>\n",
       "  </thead>\n",
       "  <tbody>\n",
       "    <tr>\n",
       "      <th>Camden</th>\n",
       "      <td>33226.159283</td>\n",
       "      <td>31864.194582</td>\n",
       "    </tr>\n",
       "    <tr>\n",
       "      <th>City of London</th>\n",
       "      <td>58846.767683</td>\n",
       "      <td>56434.595404</td>\n",
       "    </tr>\n",
       "    <tr>\n",
       "      <th>Hackney</th>\n",
       "      <td>609.557954</td>\n",
       "      <td>584.571726</td>\n",
       "    </tr>\n",
       "    <tr>\n",
       "      <th>Islington</th>\n",
       "      <td>17963.205029</td>\n",
       "      <td>17226.880046</td>\n",
       "    </tr>\n",
       "    <tr>\n",
       "      <th>Lambeth</th>\n",
       "      <td>21455.161442</td>\n",
       "      <td>20575.698598</td>\n",
       "    </tr>\n",
       "    <tr>\n",
       "      <th>Southwark</th>\n",
       "      <td>34296.007846</td>\n",
       "      <td>32890.189266</td>\n",
       "    </tr>\n",
       "    <tr>\n",
       "      <th>Tower Hamlets</th>\n",
       "      <td>517.119545</td>\n",
       "      <td>991.844869</td>\n",
       "    </tr>\n",
       "    <tr>\n",
       "      <th>Westminster</th>\n",
       "      <td>55858.140779</td>\n",
       "      <td>53568.474515</td>\n",
       "    </tr>\n",
       "  </tbody>\n",
       "</table>\n",
       "</div>"
      ],
      "text/plain": [
       "Period          AM peak (07:00-10:00)  PM peak (16:00-19:00)\n",
       "Borough                                                     \n",
       "Camden                   33226.159283           31864.194582\n",
       "City of London           58846.767683           56434.595404\n",
       "Hackney                    609.557954             584.571726\n",
       "Islington                17963.205029           17226.880046\n",
       "Lambeth                  21455.161442           20575.698598\n",
       "Southwark                34296.007846           32890.189266\n",
       "Tower Hamlets              517.119545             991.844869\n",
       "Westminster              55858.140779           53568.474515"
      ]
     },
     "execution_count": 76,
     "metadata": {},
     "output_type": "execute_result"
    }
   ],
   "source": [
    "pivot21"
   ]
  },
  {
   "cell_type": "code",
   "execution_count": 77,
   "metadata": {},
   "outputs": [],
   "source": [
    "geo21 = pd.merge(pivot21, boroughs, how='left', left_on='Borough', right_on='NAME')\n",
    "geo21 = gpd.GeoDataFrame(geo21, geometry='geometry', crs='epsg:4326')"
   ]
  },
  {
   "cell_type": "code",
   "execution_count": 78,
   "metadata": {},
   "outputs": [],
   "source": [
    "geo21.to_file('geo21.geojson', driver='GeoJSON')"
   ]
  },
  {
   "cell_type": "code",
   "execution_count": null,
   "metadata": {},
   "outputs": [],
   "source": []
  }
 ],
 "metadata": {
  "kernelspec": {
   "display_name": "Python 3",
   "language": "python",
   "name": "python3"
  },
  "language_info": {
   "codemirror_mode": {
    "name": "ipython",
    "version": 3
   },
   "file_extension": ".py",
   "mimetype": "text/x-python",
   "name": "python",
   "nbconvert_exporter": "python",
   "pygments_lexer": "ipython3",
   "version": "3.7.8"
  }
 },
 "nbformat": 4,
 "nbformat_minor": 4
}
