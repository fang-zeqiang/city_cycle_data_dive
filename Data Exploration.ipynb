{
 "cells": [
  {
   "cell_type": "markdown",
   "metadata": {},
   "source": [
    "Business Question:\n",
    "\n",
    "How  has  cycling-relevant  street  infrastructure  changed  in  London？\n",
    "what  might  this  suggest for  future  support for cycling  in the  city  in  future?  \n",
    "\n",
    "1. Can  we  create  a map  that  incorporates  all  relevant cycling  infrastructure  at  present?  \n",
    "\n",
    "    - how to define relevant cyclying infrastructure (from RunFriendly search?)?\n",
    "      \n",
    "      RunFriendly is a thing that users require.\n",
    "\n",
    "    - temporal information at present?\n",
    "\n",
    "      2021, can we find the 2020,2019 data\n",
    "\n",
    "2. What  is  the  potential  for  adding  a  network  of  secure  bike  (and  e-bike) parking in London that can be accessed on-demand? \n",
    "\n",
    "You may want to identify and map potential popular locations in London where cyclists, based on origin/destination and other data (e.g. retail and leisure spend, footfall, cycling count, Strava etc) may want to stop and secure their bike for 30 mins to 3 hours. \n",
    "\n",
    "With cycle theft  increasing  year-on-year,  there  is  a  case  for  more  secure  urban  parking  for  bikes.  \n",
    "\n",
    "This  is  distinct  to storage  at  home  or  in  primary  places  of  work  (typically  more  than  **3  hours**)  **but  instead**  intermediate journeys that  cyclists  would  like  to make  on  their  bikes  –  e.g.  stopping  to  meet  friends for food  or  a  drink, calling  in  at  the  gym,  stopping  to  pick  up  some  shopping  etc.  \n",
    "\n",
    "Research  by  CUSP  London  partner  Active Things  indicates  that  risk  of  theft  puts  off  many  cyclists  making  these  intermediate  journeys  and  has  a negative  impact  on  cycle  use  (i.e.  they  don’t  use  the  electric  bike  if  they  plan  to  go  to  meet  friends  after work).  \n",
    "\n",
    "3. Where should the first 100,  500  and  1000  lockers  be  installed  to  best  cater  to  these  intermediate journeys?  \n",
    "\n",
    "4. What kind of profile  of  use  could  be  imagined  in  terms  of  daily  usage  patterns?  \n",
    "\n",
    "5. Do the current deployment on street and secure bike racks match the need for secure parking? "
   ]
  },
  {
   "cell_type": "markdown",
   "metadata": {},
   "source": [
    "## How has cycling-relevant street infrastructure changed in London？\n",
    "\n",
    "cycling-relevant street infrastructures include multiple thing.\n",
    "You should narrow down and find correct format to introduce!"
   ]
  },
  {
   "cell_type": "code",
   "execution_count": null,
   "metadata": {},
   "outputs": [],
   "source": []
  },
  {
   "cell_type": "code",
   "execution_count": null,
   "metadata": {},
   "outputs": [],
   "source": []
  }
 ],
 "metadata": {
  "kernelspec": {
   "display_name": "Python 3",
   "language": "python",
   "name": "python3"
  },
  "language_info": {
   "codemirror_mode": {
    "name": "ipython",
    "version": 3
   },
   "file_extension": ".py",
   "mimetype": "text/x-python",
   "name": "python",
   "nbconvert_exporter": "python",
   "pygments_lexer": "ipython3",
   "version": "3.7.0"
  }
 },
 "nbformat": 4,
 "nbformat_minor": 4
}
